{
 "cells": [
  {
   "cell_type": "markdown",
   "metadata": {},
   "source": [
    "# Requirements\n",
    "\n",
    "FFMPEG must be installed. Suggest using winget to install on Windows"
   ]
  },
  {
   "cell_type": "code",
   "execution_count": 10,
   "metadata": {},
   "outputs": [
    {
     "name": "stdout",
     "output_type": "stream",
     "text": [
      "Requirement already satisfied: transformers in c:\\users\\rapen\\onedrive\\documents\\github\\vidbot\\.venv\\lib\\site-packages (4.44.2)\n",
      "Requirement already satisfied: filelock in c:\\users\\rapen\\onedrive\\documents\\github\\vidbot\\.venv\\lib\\site-packages (from transformers) (3.16.0)\n",
      "Requirement already satisfied: huggingface-hub<1.0,>=0.23.2 in c:\\users\\rapen\\onedrive\\documents\\github\\vidbot\\.venv\\lib\\site-packages (from transformers) (0.24.6)\n",
      "Requirement already satisfied: numpy>=1.17 in c:\\users\\rapen\\onedrive\\documents\\github\\vidbot\\.venv\\lib\\site-packages (from transformers) (1.26.4)\n",
      "Requirement already satisfied: packaging>=20.0 in c:\\users\\rapen\\onedrive\\documents\\github\\vidbot\\.venv\\lib\\site-packages (from transformers) (24.1)\n",
      "Requirement already satisfied: pyyaml>=5.1 in c:\\users\\rapen\\onedrive\\documents\\github\\vidbot\\.venv\\lib\\site-packages (from transformers) (6.0.2)\n",
      "Requirement already satisfied: regex!=2019.12.17 in c:\\users\\rapen\\onedrive\\documents\\github\\vidbot\\.venv\\lib\\site-packages (from transformers) (2024.7.24)\n",
      "Requirement already satisfied: requests in c:\\users\\rapen\\onedrive\\documents\\github\\vidbot\\.venv\\lib\\site-packages (from transformers) (2.32.3)\n",
      "Requirement already satisfied: safetensors>=0.4.1 in c:\\users\\rapen\\onedrive\\documents\\github\\vidbot\\.venv\\lib\\site-packages (from transformers) (0.4.5)\n",
      "Requirement already satisfied: tokenizers<0.20,>=0.19 in c:\\users\\rapen\\onedrive\\documents\\github\\vidbot\\.venv\\lib\\site-packages (from transformers) (0.19.1)\n",
      "Requirement already satisfied: tqdm>=4.27 in c:\\users\\rapen\\onedrive\\documents\\github\\vidbot\\.venv\\lib\\site-packages (from transformers) (4.66.5)\n",
      "Requirement already satisfied: fsspec>=2023.5.0 in c:\\users\\rapen\\onedrive\\documents\\github\\vidbot\\.venv\\lib\\site-packages (from huggingface-hub<1.0,>=0.23.2->transformers) (2024.9.0)\n",
      "Requirement already satisfied: typing-extensions>=3.7.4.3 in c:\\users\\rapen\\onedrive\\documents\\github\\vidbot\\.venv\\lib\\site-packages (from huggingface-hub<1.0,>=0.23.2->transformers) (4.12.2)\n",
      "Requirement already satisfied: colorama in c:\\users\\rapen\\onedrive\\documents\\github\\vidbot\\.venv\\lib\\site-packages (from tqdm>=4.27->transformers) (0.4.6)\n",
      "Requirement already satisfied: charset-normalizer<4,>=2 in c:\\users\\rapen\\onedrive\\documents\\github\\vidbot\\.venv\\lib\\site-packages (from requests->transformers) (3.3.2)\n",
      "Requirement already satisfied: idna<4,>=2.5 in c:\\users\\rapen\\onedrive\\documents\\github\\vidbot\\.venv\\lib\\site-packages (from requests->transformers) (3.8)\n",
      "Requirement already satisfied: urllib3<3,>=1.21.1 in c:\\users\\rapen\\onedrive\\documents\\github\\vidbot\\.venv\\lib\\site-packages (from requests->transformers) (2.2.2)\n",
      "Requirement already satisfied: certifi>=2017.4.17 in c:\\users\\rapen\\onedrive\\documents\\github\\vidbot\\.venv\\lib\\site-packages (from requests->transformers) (2024.8.30)\n",
      "Note: you may need to restart the kernel to use updated packages.\n",
      "Requirement already satisfied: langchain_community in c:\\users\\rapen\\onedrive\\documents\\github\\vidbot\\.venv\\lib\\site-packages (0.2.12)\n",
      "Requirement already satisfied: PyYAML>=5.3 in c:\\users\\rapen\\onedrive\\documents\\github\\vidbot\\.venv\\lib\\site-packages (from langchain_community) (6.0.2)\n",
      "Requirement already satisfied: SQLAlchemy<3,>=1.4 in c:\\users\\rapen\\onedrive\\documents\\github\\vidbot\\.venv\\lib\\site-packages (from langchain_community) (2.0.34)\n",
      "Requirement already satisfied: aiohttp<4.0.0,>=3.8.3 in c:\\users\\rapen\\onedrive\\documents\\github\\vidbot\\.venv\\lib\\site-packages (from langchain_community) (3.10.5)\n",
      "Requirement already satisfied: dataclasses-json<0.7,>=0.5.7 in c:\\users\\rapen\\onedrive\\documents\\github\\vidbot\\.venv\\lib\\site-packages (from langchain_community) (0.6.7)\n",
      "Requirement already satisfied: langchain<0.3.0,>=0.2.13 in c:\\users\\rapen\\onedrive\\documents\\github\\vidbot\\.venv\\lib\\site-packages (from langchain_community) (0.2.15)\n",
      "Requirement already satisfied: langchain-core<0.3.0,>=0.2.30 in c:\\users\\rapen\\onedrive\\documents\\github\\vidbot\\.venv\\lib\\site-packages (from langchain_community) (0.2.35)\n",
      "Requirement already satisfied: langsmith<0.2.0,>=0.1.0 in c:\\users\\rapen\\onedrive\\documents\\github\\vidbot\\.venv\\lib\\site-packages (from langchain_community) (0.1.116)\n",
      "Requirement already satisfied: numpy<2.0.0,>=1.26.0 in c:\\users\\rapen\\onedrive\\documents\\github\\vidbot\\.venv\\lib\\site-packages (from langchain_community) (1.26.4)\n",
      "Requirement already satisfied: requests<3,>=2 in c:\\users\\rapen\\onedrive\\documents\\github\\vidbot\\.venv\\lib\\site-packages (from langchain_community) (2.32.3)\n",
      "Requirement already satisfied: tenacity!=8.4.0,<9.0.0,>=8.1.0 in c:\\users\\rapen\\onedrive\\documents\\github\\vidbot\\.venv\\lib\\site-packages (from langchain_community) (8.5.0)\n",
      "Requirement already satisfied: aiohappyeyeballs>=2.3.0 in c:\\users\\rapen\\onedrive\\documents\\github\\vidbot\\.venv\\lib\\site-packages (from aiohttp<4.0.0,>=3.8.3->langchain_community) (2.4.0)\n",
      "Requirement already satisfied: aiosignal>=1.1.2 in c:\\users\\rapen\\onedrive\\documents\\github\\vidbot\\.venv\\lib\\site-packages (from aiohttp<4.0.0,>=3.8.3->langchain_community) (1.3.1)\n",
      "Requirement already satisfied: attrs>=17.3.0 in c:\\users\\rapen\\onedrive\\documents\\github\\vidbot\\.venv\\lib\\site-packages (from aiohttp<4.0.0,>=3.8.3->langchain_community) (24.2.0)\n",
      "Requirement already satisfied: frozenlist>=1.1.1 in c:\\users\\rapen\\onedrive\\documents\\github\\vidbot\\.venv\\lib\\site-packages (from aiohttp<4.0.0,>=3.8.3->langchain_community) (1.4.1)\n",
      "Requirement already satisfied: multidict<7.0,>=4.5 in c:\\users\\rapen\\onedrive\\documents\\github\\vidbot\\.venv\\lib\\site-packages (from aiohttp<4.0.0,>=3.8.3->langchain_community) (6.0.5)\n",
      "Requirement already satisfied: yarl<2.0,>=1.0 in c:\\users\\rapen\\onedrive\\documents\\github\\vidbot\\.venv\\lib\\site-packages (from aiohttp<4.0.0,>=3.8.3->langchain_community) (1.10.0)\n",
      "Requirement already satisfied: marshmallow<4.0.0,>=3.18.0 in c:\\users\\rapen\\onedrive\\documents\\github\\vidbot\\.venv\\lib\\site-packages (from dataclasses-json<0.7,>=0.5.7->langchain_community) (3.22.0)\n",
      "Requirement already satisfied: typing-inspect<1,>=0.4.0 in c:\\users\\rapen\\onedrive\\documents\\github\\vidbot\\.venv\\lib\\site-packages (from dataclasses-json<0.7,>=0.5.7->langchain_community) (0.9.0)\n",
      "Requirement already satisfied: langchain-text-splitters<0.3.0,>=0.2.0 in c:\\users\\rapen\\onedrive\\documents\\github\\vidbot\\.venv\\lib\\site-packages (from langchain<0.3.0,>=0.2.13->langchain_community) (0.2.2)\n",
      "Requirement already satisfied: pydantic<3,>=1 in c:\\users\\rapen\\onedrive\\documents\\github\\vidbot\\.venv\\lib\\site-packages (from langchain<0.3.0,>=0.2.13->langchain_community) (2.9.0)\n",
      "Requirement already satisfied: jsonpatch<2.0,>=1.33 in c:\\users\\rapen\\onedrive\\documents\\github\\vidbot\\.venv\\lib\\site-packages (from langchain-core<0.3.0,>=0.2.30->langchain_community) (1.33)\n",
      "Requirement already satisfied: packaging<25,>=23.2 in c:\\users\\rapen\\onedrive\\documents\\github\\vidbot\\.venv\\lib\\site-packages (from langchain-core<0.3.0,>=0.2.30->langchain_community) (24.1)\n",
      "Requirement already satisfied: typing-extensions>=4.7 in c:\\users\\rapen\\onedrive\\documents\\github\\vidbot\\.venv\\lib\\site-packages (from langchain-core<0.3.0,>=0.2.30->langchain_community) (4.12.2)\n",
      "Requirement already satisfied: httpx<1,>=0.23.0 in c:\\users\\rapen\\onedrive\\documents\\github\\vidbot\\.venv\\lib\\site-packages (from langsmith<0.2.0,>=0.1.0->langchain_community) (0.27.2)\n",
      "Requirement already satisfied: orjson<4.0.0,>=3.9.14 in c:\\users\\rapen\\onedrive\\documents\\github\\vidbot\\.venv\\lib\\site-packages (from langsmith<0.2.0,>=0.1.0->langchain_community) (3.10.7)\n",
      "Requirement already satisfied: charset-normalizer<4,>=2 in c:\\users\\rapen\\onedrive\\documents\\github\\vidbot\\.venv\\lib\\site-packages (from requests<3,>=2->langchain_community) (3.3.2)\n",
      "Requirement already satisfied: idna<4,>=2.5 in c:\\users\\rapen\\onedrive\\documents\\github\\vidbot\\.venv\\lib\\site-packages (from requests<3,>=2->langchain_community) (3.8)\n",
      "Requirement already satisfied: urllib3<3,>=1.21.1 in c:\\users\\rapen\\onedrive\\documents\\github\\vidbot\\.venv\\lib\\site-packages (from requests<3,>=2->langchain_community) (2.2.2)\n",
      "Requirement already satisfied: certifi>=2017.4.17 in c:\\users\\rapen\\onedrive\\documents\\github\\vidbot\\.venv\\lib\\site-packages (from requests<3,>=2->langchain_community) (2024.8.30)\n",
      "Requirement already satisfied: greenlet!=0.4.17 in c:\\users\\rapen\\onedrive\\documents\\github\\vidbot\\.venv\\lib\\site-packages (from SQLAlchemy<3,>=1.4->langchain_community) (3.0.3)\n",
      "Requirement already satisfied: anyio in c:\\users\\rapen\\onedrive\\documents\\github\\vidbot\\.venv\\lib\\site-packages (from httpx<1,>=0.23.0->langsmith<0.2.0,>=0.1.0->langchain_community) (4.4.0)\n",
      "Requirement already satisfied: httpcore==1.* in c:\\users\\rapen\\onedrive\\documents\\github\\vidbot\\.venv\\lib\\site-packages (from httpx<1,>=0.23.0->langsmith<0.2.0,>=0.1.0->langchain_community) (1.0.5)\n",
      "Requirement already satisfied: sniffio in c:\\users\\rapen\\onedrive\\documents\\github\\vidbot\\.venv\\lib\\site-packages (from httpx<1,>=0.23.0->langsmith<0.2.0,>=0.1.0->langchain_community) (1.3.1)\n",
      "Requirement already satisfied: h11<0.15,>=0.13 in c:\\users\\rapen\\onedrive\\documents\\github\\vidbot\\.venv\\lib\\site-packages (from httpcore==1.*->httpx<1,>=0.23.0->langsmith<0.2.0,>=0.1.0->langchain_community) (0.14.0)\n",
      "Requirement already satisfied: jsonpointer>=1.9 in c:\\users\\rapen\\onedrive\\documents\\github\\vidbot\\.venv\\lib\\site-packages (from jsonpatch<2.0,>=1.33->langchain-core<0.3.0,>=0.2.30->langchain_community) (3.0.0)\n",
      "Requirement already satisfied: annotated-types>=0.4.0 in c:\\users\\rapen\\onedrive\\documents\\github\\vidbot\\.venv\\lib\\site-packages (from pydantic<3,>=1->langchain<0.3.0,>=0.2.13->langchain_community) (0.7.0)\n",
      "Requirement already satisfied: pydantic-core==2.23.2 in c:\\users\\rapen\\onedrive\\documents\\github\\vidbot\\.venv\\lib\\site-packages (from pydantic<3,>=1->langchain<0.3.0,>=0.2.13->langchain_community) (2.23.2)\n",
      "Requirement already satisfied: tzdata in c:\\users\\rapen\\onedrive\\documents\\github\\vidbot\\.venv\\lib\\site-packages (from pydantic<3,>=1->langchain<0.3.0,>=0.2.13->langchain_community) (2024.1)\n",
      "Requirement already satisfied: mypy-extensions>=0.3.0 in c:\\users\\rapen\\onedrive\\documents\\github\\vidbot\\.venv\\lib\\site-packages (from typing-inspect<1,>=0.4.0->dataclasses-json<0.7,>=0.5.7->langchain_community) (1.0.0)\n",
      "Note: you may need to restart the kernel to use updated packages.\n",
      "Looking in indexes: https://download.pytorch.org/whl/cu124\n",
      "Requirement already satisfied: torch in c:\\users\\rapen\\onedrive\\documents\\github\\vidbot\\.venv\\lib\\site-packages (2.4.1+cu124)\n",
      "Requirement already satisfied: torchvision in c:\\users\\rapen\\onedrive\\documents\\github\\vidbot\\.venv\\lib\\site-packages (0.19.1+cu124)\n",
      "Requirement already satisfied: torchaudio in c:\\users\\rapen\\onedrive\\documents\\github\\vidbot\\.venv\\lib\\site-packages (2.4.1+cu124)\n",
      "Requirement already satisfied: filelock in c:\\users\\rapen\\onedrive\\documents\\github\\vidbot\\.venv\\lib\\site-packages (from torch) (3.16.0)\n",
      "Requirement already satisfied: typing-extensions>=4.8.0 in c:\\users\\rapen\\onedrive\\documents\\github\\vidbot\\.venv\\lib\\site-packages (from torch) (4.12.2)\n",
      "Requirement already satisfied: sympy in c:\\users\\rapen\\onedrive\\documents\\github\\vidbot\\.venv\\lib\\site-packages (from torch) (1.13.2)\n",
      "Requirement already satisfied: networkx in c:\\users\\rapen\\onedrive\\documents\\github\\vidbot\\.venv\\lib\\site-packages (from torch) (3.2.1)\n",
      "Requirement already satisfied: jinja2 in c:\\users\\rapen\\onedrive\\documents\\github\\vidbot\\.venv\\lib\\site-packages (from torch) (3.1.4)\n",
      "Requirement already satisfied: fsspec in c:\\users\\rapen\\onedrive\\documents\\github\\vidbot\\.venv\\lib\\site-packages (from torch) (2024.9.0)\n",
      "Requirement already satisfied: setuptools in c:\\users\\rapen\\onedrive\\documents\\github\\vidbot\\.venv\\lib\\site-packages (from torch) (74.1.2)\n",
      "Requirement already satisfied: numpy in c:\\users\\rapen\\onedrive\\documents\\github\\vidbot\\.venv\\lib\\site-packages (from torchvision) (1.26.4)\n",
      "Requirement already satisfied: pillow!=8.3.*,>=5.3.0 in c:\\users\\rapen\\onedrive\\documents\\github\\vidbot\\.venv\\lib\\site-packages (from torchvision) (10.4.0)\n",
      "Requirement already satisfied: MarkupSafe>=2.0 in c:\\users\\rapen\\onedrive\\documents\\github\\vidbot\\.venv\\lib\\site-packages (from jinja2->torch) (2.1.5)\n",
      "Requirement already satisfied: mpmath<1.4,>=1.1.0 in c:\\users\\rapen\\onedrive\\documents\\github\\vidbot\\.venv\\lib\\site-packages (from sympy->torch) (1.3.0)\n",
      "Note: you may need to restart the kernel to use updated packages.\n",
      "Note: you may need to restart the kernel to use updated packages.\n",
      "Note: you may need to restart the kernel to use updated packages.\n",
      "Note: you may need to restart the kernel to use updated packages.\n"
     ]
    }
   ],
   "source": [
    "%pip install transformers\n",
    "%pip install langchain_community\n",
    "%pip install torch torchvision torchaudio --index-url https://download.pytorch.org/whl/cu124\n",
    "%pip install --upgrade --quiet  yt_dlp\n",
    "%pip install --upgrade --quiet  pydub\n",
    "%pip install --upgrade --quiet  librosa"
   ]
  },
  {
   "cell_type": "code",
   "execution_count": 1,
   "metadata": {},
   "outputs": [
    {
     "name": "stderr",
     "output_type": "stream",
     "text": [
      "c:\\Users\\rapen\\OneDrive\\Documents\\GitHub\\VidBot\\.venv\\Lib\\site-packages\\tqdm\\auto.py:21: TqdmWarning: IProgress not found. Please update jupyter and ipywidgets. See https://ipywidgets.readthedocs.io/en/stable/user_install.html\n",
      "  from .autonotebook import tqdm as notebook_tqdm\n",
      "c:\\Users\\rapen\\OneDrive\\Documents\\GitHub\\VidBot\\.venv\\Lib\\site-packages\\huggingface_hub\\file_download.py:159: UserWarning: `huggingface_hub` cache-system uses symlinks by default to efficiently store duplicated files but your machine does not support them in C:\\Users\\rapen\\.cache\\huggingface\\hub\\models--openai--whisper-small. Caching files will still work but in a degraded version that might require more space on your disk. This warning can be disabled by setting the `HF_HUB_DISABLE_SYMLINKS_WARNING` environment variable. For more details, see https://huggingface.co/docs/huggingface_hub/how-to-cache#limitations.\n",
      "To support symlinks on Windows, you either need to activate Developer Mode or to run Python as an administrator. In order to see activate developer mode, see this article: https://docs.microsoft.com/en-us/windows/apps/get-started/enable-your-device-for-development\n",
      "  warnings.warn(message)\n",
      "Some non-default generation parameters are set in the model config. These should go into a GenerationConfig file (https://huggingface.co/docs/transformers/generation_strategies#save-a-custom-decoding-strategy-with-your-model) instead. This warning will be raised to an exception in v4.41.\n",
      "Non-default generation parameters: {'max_length': 448, 'suppress_tokens': [1, 2, 7, 8, 9, 10, 14, 25, 26, 27, 28, 29, 31, 58, 59, 60, 61, 62, 63, 90, 91, 92, 93, 359, 503, 522, 542, 873, 893, 902, 918, 922, 931, 1350, 1853, 1982, 2460, 2627, 3246, 3253, 3268, 3536, 3846, 3961, 4183, 4667, 6585, 6647, 7273, 9061, 9383, 10428, 10929, 11938, 12033, 12331, 12562, 13793, 14157, 14635, 15265, 15618, 16553, 16604, 18362, 18956, 20075, 21675, 22520, 26130, 26161, 26435, 28279, 29464, 31650, 32302, 32470, 36865, 42863, 47425, 49870, 50254, 50258, 50360, 50361, 50362], 'begin_suppress_tokens': [220, 50257]}\n"
     ]
    },
    {
     "data": {
      "text/plain": [
       "[]"
      ]
     },
     "execution_count": 1,
     "metadata": {},
     "output_type": "execute_result"
    }
   ],
   "source": [
    "from transformers import WhisperProcessor, WhisperModel\n",
    "\n",
    "# Specify the Whisper model size you want to download\n",
    "model_size = \"small\"\n",
    "\n",
    "# Create the Whisper processor and model\n",
    "processor = WhisperProcessor.from_pretrained(f\"openai/whisper-{model_size}\")\n",
    "model = WhisperModel.from_pretrained(f\"openai/whisper-{model_size}\")\n",
    "\n",
    "# Save the model files to a local directory\n",
    "save_dir = \"./whisper_models\"\n",
    "model.save_pretrained(save_dir)\n",
    "processor.save_pretrained(save_dir)"
   ]
  },
  {
   "cell_type": "code",
   "execution_count": 1,
   "metadata": {},
   "outputs": [
    {
     "name": "stderr",
     "output_type": "stream",
     "text": [
      "c:\\Users\\rapen\\OneDrive\\Documents\\GitHub\\VidBot\\.venv\\Lib\\site-packages\\tqdm\\auto.py:21: TqdmWarning: IProgress not found. Please update jupyter and ipywidgets. See https://ipywidgets.readthedocs.io/en/stable/user_install.html\n",
      "  from .autonotebook import tqdm as notebook_tqdm\n"
     ]
    },
    {
     "name": "stdout",
     "output_type": "stream",
     "text": [
      "Using the following model:  openai/whisper-large\n"
     ]
    }
   ],
   "source": [
    "from langchain_community.document_loaders.parsers.audio import OpenAIWhisperParserLocal\n",
    "from langchain_community.document_loaders.generic import GenericLoader\n",
    "from langchain_community.document_loaders.blob_loaders.youtube_audio import (\n",
    "    YoutubeAudioLoader,\n",
    ")\n",
    "\n",
    "whisper_model_path = \"~/whisper_models\"\n",
    "\n",
    "# Set a flag to use local or remote parsing\n",
    "local = True\n",
    "\n",
    "# YouTube video URLs\n",
    "urls = [\"https://youtu.be/kCc8FmEb1nY\"]\n",
    "\n",
    "# Directory to save audio files\n",
    "save_dir = \"./Downloads\"\n",
    "\n",
    "loader = GenericLoader(\n",
    "    YoutubeAudioLoader(urls, save_dir), OpenAIWhisperParserLocal()\n",
    ")"
   ]
  },
  {
   "cell_type": "code",
   "execution_count": 2,
   "metadata": {},
   "outputs": [
    {
     "name": "stdout",
     "output_type": "stream",
     "text": [
      "[youtube] Extracting URL: https://youtu.be/kCc8FmEb1nY\n",
      "[youtube] kCc8FmEb1nY: Downloading webpage\n",
      "[youtube] kCc8FmEb1nY: Downloading ios player API JSON\n",
      "[youtube] kCc8FmEb1nY: Downloading web creator player API JSON\n",
      "[youtube] kCc8FmEb1nY: Downloading m3u8 information\n",
      "[info] kCc8FmEb1nY: Downloading 1 format(s): 140\n",
      "[download] Downloads\\Let's build GPT： from scratch, in code, spelled out..m4a has already been downloaded\n",
      "[download] 100% of  107.73MiB\n",
      "[ExtractAudio] Not converting audio Downloads\\Let's build GPT： from scratch, in code, spelled out..m4a; file is already in target format m4a\n",
      "Transcribing part Downloads\\Let's build GPT： from scratch, in code, spelled out..m4a!\n"
     ]
    },
    {
     "name": "stderr",
     "output_type": "stream",
     "text": [
      "c:\\Users\\rapen\\OneDrive\\Documents\\GitHub\\VidBot\\.venv\\Lib\\site-packages\\transformers\\models\\whisper\\generation_whisper.py:496: FutureWarning: The input name `inputs` is deprecated. Please make sure to use `input_features` instead.\n",
      "  warnings.warn(\n",
      "Due to a bug fix in https://github.com/huggingface/transformers/pull/28687 transcription using a multilingual Whisper will default to language detection followed by transcription instead of translation to English.This might be a breaking change for your use case. If you want to instead always translate your audio to English, make sure to pass `language='en'`.\n",
      "c:\\Users\\rapen\\OneDrive\\Documents\\GitHub\\VidBot\\.venv\\Lib\\site-packages\\transformers\\models\\whisper\\modeling_whisper.py:598: UserWarning: 1Torch was not compiled with flash attention. (Triggered internally at C:\\actions-runner\\_work\\pytorch\\pytorch\\builder\\windows\\pytorch\\aten\\src\\ATen\\native\\transformers\\cuda\\sdp_utils.cpp:555.)\n",
      "  attn_output = torch.nn.functional.scaled_dot_product_attention(\n",
      "Passing a tuple of `past_key_values` is deprecated and will be removed in Transformers v4.43.0. You should pass an instance of `EncoderDecoderCache` instead, e.g. `past_key_values=EncoderDecoderCache.from_legacy_cache(past_key_values)`.\n",
      "The attention mask is not set and cannot be inferred from input because pad token is same as eos token. As a consequence, you may observe unexpected behavior. Please pass your input's `attention_mask` to obtain reliable results.\n"
     ]
    }
   ],
   "source": [
    "docs = loader.load()"
   ]
  },
  {
   "cell_type": "code",
   "execution_count": null,
   "metadata": {},
   "outputs": [],
   "source": []
  }
 ],
 "metadata": {
  "kernelspec": {
   "display_name": ".venv",
   "language": "python",
   "name": "python3"
  },
  "language_info": {
   "codemirror_mode": {
    "name": "ipython",
    "version": 3
   },
   "file_extension": ".py",
   "mimetype": "text/x-python",
   "name": "python",
   "nbconvert_exporter": "python",
   "pygments_lexer": "ipython3",
   "version": "3.12.5"
  }
 },
 "nbformat": 4,
 "nbformat_minor": 2
}
